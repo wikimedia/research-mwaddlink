{
 "cells": [
  {
   "cell_type": "code",
   "execution_count": 39,
   "metadata": {},
   "outputs": [
    {
     "name": "stdout",
     "output_type": "stream",
     "text": [
      "The autoreload extension is already loaded. To reload it, use:\n",
      "  %reload_ext autoreload\n"
     ]
    }
   ],
   "source": [
    "%load_ext autoreload\n",
    "%autoreload 2\n",
    "# import re\n",
    "from sqlitedict import SqliteDict\n",
    "import argparse\n",
    "import xgboost as xgb\n",
    "import sys,os\n",
    "import json\n",
    "\n",
    "from scripts.utils import normalise_title\n",
    "from scripts.utils import getPageDict,process_page"
   ]
  },
  {
   "cell_type": "code",
   "execution_count": 44,
   "metadata": {},
   "outputs": [],
   "source": [
    "lang = 'de'\n",
    "page_title = \"Garnet Carter\"\n",
    "threshold = 0.9"
   ]
  },
  {
   "cell_type": "code",
   "execution_count": null,
   "metadata": {},
   "outputs": [],
   "source": []
  },
  {
   "cell_type": "code",
   "execution_count": 45,
   "metadata": {},
   "outputs": [],
   "source": [
    "# ## open datasets as shelve\n",
    "anchors = SqliteDict(\"./data/{0}/{0}.anchors.sqlite\".format(lang))\n",
    "pageids = SqliteDict(\"./data/{0}/{0}.pageids.sqlite\".format(lang)) \n",
    "redirects = SqliteDict(\"./data/{0}/{0}.redirects.sqlite\".format(lang)) \n",
    "word2vec = SqliteDict(\"./data/{0}/{0}.w2vfiltered.sqlite\".format(lang))\n",
    "\n",
    "## load trained model\n",
    "import xgboost as xgb\n",
    "model = xgb.XGBClassifier()  # init model\n",
    "model.load_model('./data/{0}/{0}.linkmodel.json'.format(lang))  # load data"
   ]
  },
  {
   "cell_type": "code",
   "execution_count": 46,
   "metadata": {},
   "outputs": [],
   "source": [
    "# Get the wikitext of a page\n",
    "page_title = page_title.replace(' ','_')\n",
    "page_dict = getPageDict(page_title,lang)\n",
    "wikitext = page_dict['wikitext']\n",
    "pageid = page_dict['pageid']\n",
    "revid = page_dict['revid']"
   ]
  },
  {
   "cell_type": "code",
   "execution_count": 47,
   "metadata": {},
   "outputs": [],
   "source": [
    "## get the added links\n",
    "added_links = process_page(wikitext, page_title, anchors, pageids, redirects, word2vec, model, threshold = threshold, return_wikitext = False)"
   ]
  },
  {
   "cell_type": "code",
   "execution_count": 48,
   "metadata": {},
   "outputs": [
    {
     "data": {
      "text/plain": [
       "[{'linkTarget': 'Fairyland',\n",
       "  'anchor': 'Fairyland',\n",
       "  'probability': 0.999219536781311,\n",
       "  'startOffset': 359,\n",
       "  'endOffset': 368},\n",
       " {'linkTarget': 'Vereinigte Staaten',\n",
       "  'anchor': 'USA',\n",
       "  'probability': 0.984917938709259,\n",
       "  'startOffset': 655,\n",
       "  'endOffset': 658}]"
      ]
     },
     "execution_count": 48,
     "metadata": {},
     "output_type": "execute_result"
    }
   ],
   "source": [
    "added_links"
   ]
  },
  {
   "cell_type": "code",
   "execution_count": 49,
   "metadata": {},
   "outputs": [
    {
     "name": "stdout",
     "output_type": "stream",
     "text": [
      "'''Garnet Carter''' (* [[9. Februar]] [[1883]] in [[Sweetwater (Tennessee)|Sweetwater]], [[Lewis County (Tennessee)|Lewis County]], [[Tennessee]]; † [[21. Juli]] [[1954]] in [[Lookout Mountain]], [[Hamilton County (Tennessee)|Hamilton County]], Tennessee) war Erfinder des [[Miniaturgolf]]. \n",
      "\n",
      "== Karriere ==\n",
      "1927 eröffnete er seinen ersten Bahnengolfplatz im [[Fairyland|Fairyland|pr=0.99921954]] Club in  [[Lookout Mountain]]. Zu seiner Überraschung wurde der Platz von Erwachsenen übernommen, die Spaß an dem miniaturisierten Fairway hatten. \n",
      "\n",
      "Er begann darauf weitere Minigolfplätze zu produzieren unter dem patentierten Namen ''Tom Thumb Golf''. 1930 gab es 25.000 Plätze in den [[Vereinigte Staaten|USA|pr=0.98491794]]. 1932 verkaufte er die Rechte und eröffnete zusammen mit seiner Frau [[Rock City (Georgia)|Frieda's Rock City Garden]].\n",
      "\n",
      "== Weblinks ==\n",
      "{{Findagrave|7481668}}\n",
      "\n",
      "{{SORTIERUNG:Carter, Garnet}}\n",
      "[[Kategorie:Unternehmer (Vereinigte Staaten)]]\n",
      "[[Kategorie:US-Amerikaner]]\n",
      "[[Kategorie:Geboren 1883]]\n",
      "[[Kategorie:Gestorben 1954]]\n",
      "[[Kategorie:Mann]]\n",
      "\n",
      "{{Personendaten\n",
      "|NAME=Carter, Garnet \n",
      "|ALTERNATIVNAMEN=\n",
      "|KURZBESCHREIBUNG=US-amerikanischer Erfinder des Miniaturgolf\n",
      "|GEBURTSDATUM=9. Februar 1883\n",
      "|GEBURTSORT=[[Sweetwater (Tennessee)|Sweetwater]], [[Lewis County (Tennessee)|Lewis County]], [[Tennessee]]\n",
      "|STERBEDATUM=21. Juli 1954\n",
      "|STERBEORT=[[Lookout Mountain]], [[Hamilton County (Tennessee)|Hamilton County]], Tennessee\n",
      "}}\n"
     ]
    }
   ],
   "source": [
    "## we can also get the wikitext with the new links already inserted\n",
    "wikitext_new = added_links = process_page(wikitext, page_title, anchors, pageids, redirects, word2vec, model, threshold = threshold, return_wikitext = True)\n",
    "print(wikitext_new)"
   ]
  },
  {
   "cell_type": "code",
   "execution_count": null,
   "metadata": {},
   "outputs": [],
   "source": []
  },
  {
   "cell_type": "code",
   "execution_count": 50,
   "metadata": {},
   "outputs": [],
   "source": [
    "anchors.close()\n",
    "pageids.close()\n",
    "redirects.close()\n",
    "word2vec.close()"
   ]
  },
  {
   "cell_type": "code",
   "execution_count": null,
   "metadata": {},
   "outputs": [],
   "source": []
  }
 ],
 "metadata": {
  "kernelspec": {
   "display_name": "venv_mwaddlink",
   "language": "python",
   "name": "venv_mwaddlink"
  },
  "language_info": {
   "codemirror_mode": {
    "name": "ipython",
    "version": 3
   },
   "file_extension": ".py",
   "mimetype": "text/x-python",
   "name": "python",
   "nbconvert_exporter": "python",
   "pygments_lexer": "ipython3",
   "version": "3.7.3"
  },
  "pycharm": {
   "stem_cell": {
    "cell_type": "raw",
    "source": [],
    "metadata": {
     "collapsed": false
    }
   }
  }
 },
 "nbformat": 4,
 "nbformat_minor": 4
}